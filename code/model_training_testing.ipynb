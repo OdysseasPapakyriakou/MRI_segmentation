{
 "cells": [
  {
   "cell_type": "markdown",
   "id": "9e786f1f",
   "metadata": {},
   "source": [
    "### If run on google colab use the following cell"
   ]
  },
  {
   "cell_type": "code",
   "execution_count": null,
   "id": "0a7c6c83",
   "metadata": {},
   "outputs": [],
   "source": [
    "!pip install simpleitk\n",
    "!pip install pytorch-lightning\n",
    "\n",
    "from google.colab import drive\n",
    "drive.mount('/content/drive')"
   ]
  },
  {
   "cell_type": "code",
   "execution_count": 1,
   "id": "3846f37f",
   "metadata": {},
   "outputs": [],
   "source": [
    "#all imports \n",
    "%load_ext tensorboard\n",
    "\n",
    "from pathlib import Path\n",
    "from typing import List, Union, Tuple, Dict, Callable, Optional\n",
    "\n",
    "import matplotlib as mpl\n",
    "import matplotlib.pyplot as plt\n",
    "import numpy as np\n",
    "import pytorch_lightning as ptl\n",
    "import SimpleITK as sitk\n",
    "import torch\n",
    "import torch.nn as nn\n",
    "import torchmetrics\n",
    "from sklearn.model_selection import train_test_split\n",
    "from sklearn.preprocessing import normalize\n",
    "from torch.utils.data import Dataset, DataLoader\n",
    "from tqdm.auto import tqdm\n",
    "\n",
    "from unet_model import *\n",
    "from dataset_dataloading import * \n",
    "from helper_functions import * "
   ]
  },
  {
   "cell_type": "markdown",
   "id": "8764c4af",
   "metadata": {},
   "source": [
    "### If run on colab use the following cell"
   ]
  },
  {
   "cell_type": "code",
   "execution_count": null,
   "id": "19ec1236",
   "metadata": {},
   "outputs": [],
   "source": [
    "from drive.MyDrive.Colab_Notebooks.MRI_WMH_project.code.unet_model import *\n",
    "from drive.MyDrive.Colab_Notebooks.MRI_WMH_project.code.dataset_dataloading import *\n",
    "from drive.MyDrive.Colab_Notebooks.MRI_WMH_project.code.helper_functions import *\n",
    "\n",
    "#define experiment parameters\n",
    "base_path = Path(\"drive/MyDrive/Colab_Notebooks/MRI_WMH_project\") #path to folder where \"wmh_data\" folder is\n",
    "tensorboard_path = Path(\"drive/MyDrive/Colab_Notebooks/MRI_WMH_project/code/Tensorboard_logs\")\n",
    "train_subset = \"Amsterdam\"\n",
    "seed = 15"
   ]
  },
  {
   "cell_type": "code",
   "execution_count": 3,
   "id": "3f53133f",
   "metadata": {},
   "outputs": [],
   "source": [
    "#define experiment parameters\n",
    "base_path = Path(r\"/home/odysseas/Desktop/UU/AI for medical imaging/MRI_segmentation\") #path to folder where \"wmh_data\" folder is\n",
    "tensorboard_path = Path(r\"home/odysseas/Desktop/UU/AI for medical imaging/MRI_segmentation/code/Tensorboard_logs\")\n",
    "train_subset = \"Amsterdam\"\n",
    "seed = 15"
   ]
  },
  {
   "cell_type": "code",
   "execution_count": 4,
   "id": "b7fcc261",
   "metadata": {},
   "outputs": [
    {
     "name": "stdout",
     "output_type": "stream",
     "text": [
      "trained_with_Amsterdam_15\n"
     ]
    }
   ],
   "source": [
    "#create dataset path\n",
    "dataset_path = base_path / \"Data\"\n",
    "\n",
    "\n",
    "#create name for the tensorboard log\n",
    "train_log = \"trained_with_\" + train_subset + \"_\" + str(seed)\n",
    "\n",
    "#create paths to the train and test set\n",
    "#train_dataset_path = dataset_path / \"Train\"\n",
    "#test_dataset_path = dataset_path / \"Test\"\n",
    "print(train_log)"
   ]
  },
  {
   "cell_type": "code",
   "execution_count": 5,
   "id": "c1765ebc",
   "metadata": {},
   "outputs": [
    {
     "name": "stderr",
     "output_type": "stream",
     "text": [
      "Global seed set to 15\n",
      "/home/odysseas/anaconda3/lib/python3.9/site-packages/pytorch_lightning/trainer/connectors/accelerator_connector.py:702: UserWarning: You passed `Trainer(accelerator='cpu', precision=16)` but native AMP is not supported on CPU. Using `precision='bf16'` instead.\n",
      "  rank_zero_warn(\n",
      "Using bfloat16 Automatic Mixed Precision (AMP)\n",
      "Trainer already configured with model summary callbacks: [<class 'pytorch_lightning.callbacks.model_summary.ModelSummary'>]. Skipping setting a default `ModelSummary` callback.\n",
      "/home/odysseas/anaconda3/lib/python3.9/site-packages/lightning_lite/accelerators/cuda.py:159: UserWarning: Can't initialize NVML\n",
      "  warnings.warn(\"Can't initialize NVML\")\n",
      "/home/odysseas/anaconda3/lib/python3.9/site-packages/torch/cuda/__init__.py:83: UserWarning: CUDA initialization: The NVIDIA driver on your system is too old (found version 10010). Please update your GPU driver by downloading and installing a new version from the URL: http://www.nvidia.com/Download/index.aspx Alternatively, go to: https://pytorch.org to install a PyTorch version that has been compiled with your version of the CUDA driver. (Triggered internally at  ../c10/cuda/CUDAFunctions.cpp:109.)\n",
      "  return torch._C._cuda_getDeviceCount() > 0\n",
      "GPU available: False, used: False\n",
      "TPU available: False, using: 0 TPU cores\n",
      "IPU available: False, using: 0 IPUs\n",
      "HPU available: False, using: 0 HPUs\n"
     ]
    }
   ],
   "source": [
    "#set the seed for every to the same number\n",
    "ptl.seed_everything(seed, workers=True)\n",
    "\n",
    "model = UNet(\n",
    "    input_channels=2,\n",
    "    num_classes=3,\n",
    "    num_layers=5,\n",
    "    input_features=16,\n",
    "    loss_function=DiceLoss(classes=3),\n",
    "    is_3d=False,\n",
    "    final_activation=torch.nn.Softmax2d(),\n",
    "    lr=1e-3,\n",
    ")\n",
    "\n",
    "train_datamodule = WMHTrainDataModule(\n",
    "    train_dataset_directory = dataset_path,\n",
    "    selected_train_subset = train_subset,\n",
    "    val_split = 0.1,\n",
    "    batch_size=16,\n",
    "    # If you're getting errors in training, set\n",
    "    # num_workers to 0 for clearer error messages.\n",
    "    num_workers=16,\n",
    "    # This setting will spend a few more minutes longer at startup\n",
    "    # but will also run much faster when the training starts.\n",
    "    # Set to False if you don't have enough memory for this.\n",
    "    use_prefetch=True\n",
    ")\n",
    "\n",
    "trainer = ptl.Trainer(\n",
    "    # Writes the information that a Tensorboard (next cell) instance can read and plot\n",
    "    logger=ptl.loggers.TensorBoardLogger(save_dir=str(tensorboard_path), version = train_log),\n",
    "    # We want to run on the GPU (use \"cpu\", if not)\n",
    "    accelerator=\"cpu\",\n",
    "    # We only have 1 GPU, but if we had more, here is where we would set it\n",
    "    # In the case of `accelerator=\"cpu\"`, put the amount of cores you want to use here\n",
    "    devices=1,\n",
    "    callbacks=[\n",
    "        # Prints the model structure to the console on start\n",
    "        ptl.callbacks.ModelSummary(max_depth=2),\n",
    "        # Stops training if our validation loss doesn't improve for `patience=n` epochs\n",
    "        ptl.callbacks.EarlyStopping(monitor=\"val_loss\", patience=15, verbose=True),\n",
    "        # Saves a copy of the model whenever we improve our validation loss\n",
    "        ptl.callbacks.ModelCheckpoint(dirpath=tensorboard_path / \"checkpoints\", filename=\"checkpoint\", monitor=\"val_loss\")\n",
    "        ],\n",
    "    # Even with early stopping, we might want to set up a maximum epoch amount\n",
    "    max_epochs=100,\n",
    "    # If we want to make sure we don't accidentally stop way too soon\n",
    "    min_epochs=20,\n",
    "    # Automatic Mixed Precision (AMP) lets us save our model parameters in 16bit floats,\n",
    "    # instead of the common 32bit float. This saves us about half the memory normally used for the model.\n",
    "    # The most recent GPUs (RTX 4000 series) are able to go to 8bit, even, but this is still not well supported,\n",
    "    # so 16bit is preferable.\n",
    "    precision=16,\n",
    "    # After n batches, we log to the console.\n",
    "    # If you don't have that many samples to work with, it can happen that the default value `50` is more than the\n",
    "    # amount of steps in an epoch, so we just keep this value low for demonstrative purposes.\n",
    "    log_every_n_steps=1,\n",
    "    # By default, the `Trainer` uses a `tqdm` progress bar.\n",
    "    # This can be a little buggy in notebooks, turn it off when this is the case for you.\n",
    "    # Or leave it if it doesn't bother you.\n",
    "    enable_progress_bar=True\n",
    ")"
   ]
  },
  {
   "cell_type": "code",
   "execution_count": 7,
   "id": "8b045f54",
   "metadata": {},
   "outputs": [],
   "source": [
    "# load tensorboard\n",
    "experiment_dir = tensorboard_path / \"lightning_logs\"\n",
    "%tensorboard --logdir \"$experiment_dir\""
   ]
  },
  {
   "cell_type": "code",
   "execution_count": 19,
   "id": "ce10a44c",
   "metadata": {},
   "outputs": [
    {
     "name": "stderr",
     "output_type": "stream",
     "text": [
      "\n",
      "   | Name             | Type       | Params | In sizes                               | Out sizes        \n",
      "--------------------------------------------------------------------------------------------------------------\n",
      "0  | final_activation | Softmax2d  | 0      | ?                                      | ?                \n",
      "1  | loss_function    | DiceLoss   | 0      | ?                                      | ?                \n",
      "2  | layers           | ModuleList | 1.9 M  | ?                                      | ?                \n",
      "3  | layers.0         | DoubleConv | 2.7 K  | [1, 2, 240, 240]                       | [1, 16, 240, 240]\n",
      "4  | layers.1         | DownBlock  | 14.0 K | [1, 16, 240, 240]                      | [1, 32, 120, 120]\n",
      "5  | layers.2         | DownBlock  | 55.6 K | [1, 32, 120, 120]                      | [1, 64, 60, 60]  \n",
      "6  | layers.3         | DownBlock  | 221 K  | [1, 64, 60, 60]                        | [1, 128, 30, 30] \n",
      "7  | layers.4         | DownBlock  | 885 K  | [1, 128, 30, 30]                       | [1, 256, 15, 15] \n",
      "8  | layers.5         | UpBlock    | 574 K  | [[1, 256, 15, 15], [1, 128, 30, 30]]   | [1, 128, 30, 30] \n",
      "9  | layers.6         | UpBlock    | 143 K  | [[1, 128, 30, 30], [1, 64, 60, 60]]    | [1, 64, 60, 60]  \n",
      "10 | layers.7         | UpBlock    | 36.0 K | [[1, 64, 60, 60], [1, 32, 120, 120]]   | [1, 32, 120, 120]\n",
      "11 | layers.8         | UpBlock    | 9.0 K  | [[1, 32, 120, 120], [1, 16, 240, 240]] | [1, 16, 240, 240]\n",
      "12 | layers.9         | Conv2d     | 51     | [1, 16, 240, 240]                      | [1, 3, 240, 240] \n",
      "--------------------------------------------------------------------------------------------------------------\n",
      "1.9 M     Trainable params\n",
      "0         Non-trainable params\n",
      "1.9 M     Total params\n",
      "7.770     Total estimated model params size (MB)\n"
     ]
    },
    {
     "data": {
      "application/vnd.jupyter.widget-view+json": {
       "model_id": "",
       "version_major": 2,
       "version_minor": 0
      },
      "text/plain": [
       "Sanity Checking: 0it [00:00, ?it/s]"
      ]
     },
     "metadata": {},
     "output_type": "display_data"
    },
    {
     "data": {
      "application/vnd.jupyter.widget-view+json": {
       "model_id": "776deca8304f44d09dab3b082e0a424f",
       "version_major": 2,
       "version_minor": 0
      },
      "text/plain": [
       "Prefetching dataset:   0%|          | 0/166 [00:00<?, ?it/s]"
      ]
     },
     "metadata": {},
     "output_type": "display_data"
    },
    {
     "name": "stderr",
     "output_type": "stream",
     "text": [
      "/home/odysseas/Desktop/UU/AI for medical imaging/MRI_WMH_project/code/dataset_dataloading.py:35: RuntimeWarning: invalid value encountered in true_divide\n",
      "  return (x - min_val) / (max_val - min_val)\n"
     ]
    },
    {
     "data": {
      "application/vnd.jupyter.widget-view+json": {
       "model_id": "a56a9aa16b7f43bdba8ed962b5a5fea8",
       "version_major": 2,
       "version_minor": 0
      },
      "text/plain": [
       "Prefetching dataset:   0%|          | 0/1162 [00:00<?, ?it/s]"
      ]
     },
     "metadata": {},
     "output_type": "display_data"
    },
    {
     "data": {
      "application/vnd.jupyter.widget-view+json": {
       "model_id": "1223cc3cb0124413bb5d169b24c1ab7d",
       "version_major": 2,
       "version_minor": 0
      },
      "text/plain": [
       "Training: 0it [00:00, ?it/s]"
      ]
     },
     "metadata": {},
     "output_type": "display_data"
    },
    {
     "name": "stderr",
     "output_type": "stream",
     "text": [
      "/home/odysseas/anaconda3/lib/python3.9/site-packages/pytorch_lightning/trainer/call.py:48: UserWarning: Detected KeyboardInterrupt, attempting graceful shutdown...\n",
      "  rank_zero_warn(\"Detected KeyboardInterrupt, attempting graceful shutdown...\")\n"
     ]
    }
   ],
   "source": [
    "trainer.fit(model=model, datamodule=train_datamodule)"
   ]
  },
  {
   "cell_type": "markdown",
   "id": "69e748a6",
   "metadata": {},
   "source": [
    "# Testing"
   ]
  },
  {
   "cell_type": "code",
   "execution_count": 53,
   "id": "8799b533",
   "metadata": {},
   "outputs": [],
   "source": [
    "#define test parameters\n",
    "test_subset = \"Utr_Ams_Sing\""
   ]
  },
  {
   "cell_type": "code",
   "execution_count": 54,
   "id": "3a188373",
   "metadata": {},
   "outputs": [],
   "source": [
    "test_datamodule = WMHTestDataModule(\n",
    "    test_dataset_directory = dataset_path,\n",
    "    selected_test_subset = test_subset,\n",
    "    batch_size=16,\n",
    "    # If you're getting errors in training, set\n",
    "    # num_workers to 0 for clearer error messages.\n",
    "    num_workers=16,\n",
    "    # This setting will spend a few more minutes longer at startup\n",
    "    # but will also run much faster when the training starts.\n",
    "    # Set to False if you don't have enough memory for this.\n",
    "    use_prefetch=True\n",
    ")"
   ]
  },
  {
   "cell_type": "code",
   "execution_count": 55,
   "id": "1ae709f9",
   "metadata": {},
   "outputs": [
    {
     "name": "stderr",
     "output_type": "stream",
     "text": [
      "LOCAL_RANK: 0 - CUDA_VISIBLE_DEVICES: [0]\n",
      "\n",
      "Prefetching dataset:   0%|                                                                     | 0/179 [00:00<?, ?it/s]\u001b[A\n",
      "Prefetching dataset:   2%|█                                                            | 3/179 [00:00<00:06, 27.91it/s]\u001b[A\n",
      "Prefetching dataset:   3%|██                                                           | 6/179 [00:00<00:07, 23.38it/s]\u001b[A\n",
      "Prefetching dataset:   5%|███                                                          | 9/179 [00:00<00:07, 21.34it/s]\u001b[A\n",
      "Prefetching dataset:   7%|████                                                        | 12/179 [00:00<00:09, 17.71it/s]\u001b[A\n",
      "Prefetching dataset:   8%|████▋                                                       | 14/179 [00:00<00:10, 15.65it/s]\u001b[A\n",
      "Prefetching dataset:   9%|█████▎                                                      | 16/179 [00:00<00:11, 13.81it/s]\u001b[A\n",
      "Prefetching dataset:  10%|██████                                                      | 18/179 [00:01<00:12, 12.60it/s]\u001b[A\n",
      "Prefetching dataset:  11%|██████▋                                                     | 20/179 [00:01<00:13, 11.80it/s]\u001b[A\n",
      "Prefetching dataset:  12%|███████▎                                                    | 22/179 [00:01<00:14, 10.90it/s]\u001b[A\n",
      "Prefetching dataset:  13%|████████                                                    | 24/179 [00:01<00:15, 10.03it/s]\u001b[A\n",
      "Prefetching dataset:  15%|████████▋                                                   | 26/179 [00:02<00:16,  9.14it/s]\u001b[A\n",
      "Prefetching dataset:  15%|█████████                                                   | 27/179 [00:02<00:17,  8.75it/s]\u001b[A\n",
      "Prefetching dataset:  16%|█████████▍                                                  | 28/179 [00:02<00:17,  8.55it/s]\u001b[A\n",
      "Prefetching dataset:  16%|█████████▋                                                  | 29/179 [00:02<00:18,  8.32it/s]\u001b[A\n",
      "Prefetching dataset:  17%|██████████                                                  | 30/179 [00:02<00:19,  7.59it/s]\u001b[A\n",
      "Prefetching dataset:  17%|██████████▍                                                 | 31/179 [00:02<00:20,  7.30it/s]\u001b[A\n",
      "Prefetching dataset:  18%|██████████▋                                                 | 32/179 [00:02<00:20,  7.24it/s]\u001b[A\n",
      "Prefetching dataset:  18%|███████████                                                 | 33/179 [00:03<00:21,  6.86it/s]\u001b[A\n",
      "Prefetching dataset:  19%|███████████▍                                                | 34/179 [00:03<00:22,  6.48it/s]\u001b[A\n",
      "Prefetching dataset:  20%|███████████▋                                                | 35/179 [00:03<00:22,  6.34it/s]\u001b[A\n",
      "Prefetching dataset:  20%|████████████                                                | 36/179 [00:03<00:23,  6.08it/s]\u001b[A\n",
      "Prefetching dataset:  21%|████████████▍                                               | 37/179 [00:03<00:24,  5.90it/s]\u001b[A\n",
      "Prefetching dataset:  21%|████████████▋                                               | 38/179 [00:03<00:24,  5.76it/s]\u001b[A\n",
      "Prefetching dataset:  22%|█████████████                                               | 39/179 [00:04<00:24,  5.67it/s]\u001b[A\n",
      "Prefetching dataset:  22%|█████████████▍                                              | 40/179 [00:04<00:25,  5.55it/s]\u001b[A\n",
      "Prefetching dataset:  23%|█████████████▋                                              | 41/179 [00:04<00:25,  5.36it/s]\u001b[A\n",
      "Prefetching dataset:  23%|██████████████                                              | 42/179 [00:04<00:26,  5.20it/s]\u001b[A\n",
      "Prefetching dataset:  24%|██████████████▍                                             | 43/179 [00:04<00:26,  5.13it/s]\u001b[A\n",
      "Prefetching dataset:  25%|██████████████▋                                             | 44/179 [00:05<00:26,  5.07it/s]\u001b[A\n",
      "Prefetching dataset:  25%|███████████████                                             | 45/179 [00:05<00:27,  4.93it/s]\u001b[A\n",
      "Prefetching dataset:  26%|███████████████▍                                            | 46/179 [00:05<00:27,  4.80it/s]\u001b[A\n",
      "Prefetching dataset:  26%|███████████████▊                                            | 47/179 [00:05<00:27,  4.72it/s]\u001b[A\n",
      "Prefetching dataset:  27%|████████████████                                            | 48/179 [00:06<00:28,  4.62it/s]\u001b[A\n",
      "Prefetching dataset:  27%|████████████████▍                                           | 49/179 [00:06<00:28,  4.59it/s]\u001b[A\n",
      "Prefetching dataset:  28%|████████████████▊                                           | 50/179 [00:06<00:29,  4.43it/s]\u001b[A\n",
      "Prefetching dataset:  28%|█████████████████                                           | 51/179 [00:06<00:29,  4.31it/s]\u001b[A\n",
      "Prefetching dataset:  29%|█████████████████▍                                          | 52/179 [00:07<00:29,  4.25it/s]\u001b[A\n",
      "Prefetching dataset:  30%|█████████████████▊                                          | 53/179 [00:07<00:29,  4.21it/s]\u001b[A\n",
      "Prefetching dataset:  30%|██████████████████                                          | 54/179 [00:07<00:30,  4.14it/s]\u001b[A\n",
      "Prefetching dataset:  31%|██████████████████▍                                         | 55/179 [00:07<00:30,  4.07it/s]\u001b[A\n",
      "Prefetching dataset:  31%|██████████████████▊                                         | 56/179 [00:08<00:30,  4.01it/s]\u001b[A\n",
      "Prefetching dataset:  32%|███████████████████                                         | 57/179 [00:08<00:30,  3.96it/s]\u001b[A\n",
      "Prefetching dataset:  32%|███████████████████▍                                        | 58/179 [00:08<00:30,  3.96it/s]\u001b[A\n",
      "Prefetching dataset:  33%|███████████████████▊                                        | 59/179 [00:08<00:30,  3.88it/s]\u001b[A\n",
      "Prefetching dataset:  34%|████████████████████                                        | 60/179 [00:09<00:30,  3.85it/s]\u001b[A\n",
      "Prefetching dataset:  34%|████████████████████▍                                       | 61/179 [00:09<00:31,  3.80it/s]\u001b[A\n",
      "Prefetching dataset:  35%|████████████████████▊                                       | 62/179 [00:09<00:30,  3.80it/s]\u001b[A\n",
      "Prefetching dataset:  35%|█████████████████████                                       | 63/179 [00:09<00:31,  3.74it/s]\u001b[A\n",
      "Prefetching dataset:  36%|█████████████████████▍                                      | 64/179 [00:10<00:31,  3.61it/s]\u001b[A\n",
      "Prefetching dataset:  36%|█████████████████████▊                                      | 65/179 [00:10<00:31,  3.61it/s]\u001b[A\n",
      "Prefetching dataset:  37%|██████████████████████                                      | 66/179 [00:10<00:31,  3.58it/s]\u001b[A\n",
      "Prefetching dataset:  37%|██████████████████████▍                                     | 67/179 [00:11<00:31,  3.56it/s]\u001b[A\n",
      "Prefetching dataset:  38%|██████████████████████▊                                     | 68/179 [00:11<00:31,  3.55it/s]\u001b[A\n",
      "Prefetching dataset:  39%|███████████████████████▏                                    | 69/179 [00:11<00:31,  3.46it/s]\u001b[A\n",
      "Prefetching dataset:  39%|███████████████████████▍                                    | 70/179 [00:11<00:31,  3.42it/s]\u001b[A\n",
      "Prefetching dataset:  40%|███████████████████████▊                                    | 71/179 [00:12<00:31,  3.46it/s]\u001b[A\n",
      "Prefetching dataset:  40%|████████████████████████▏                                   | 72/179 [00:12<00:31,  3.38it/s]\u001b[A\n",
      "Prefetching dataset:  41%|████████████████████████▍                                   | 73/179 [00:12<00:31,  3.41it/s]\u001b[A\n",
      "Prefetching dataset:  41%|████████████████████████▊                                   | 74/179 [00:13<00:31,  3.33it/s]\u001b[A\n",
      "Prefetching dataset:  42%|█████████████████████████▏                                  | 75/179 [00:13<00:31,  3.28it/s]\u001b[A\n",
      "Prefetching dataset:  42%|█████████████████████████▍                                  | 76/179 [00:13<00:32,  3.20it/s]\u001b[A\n",
      "Prefetching dataset:  43%|█████████████████████████▊                                  | 77/179 [00:14<00:32,  3.15it/s]\u001b[A\n",
      "Prefetching dataset:  44%|██████████████████████████▏                                 | 78/179 [00:14<00:32,  3.13it/s]\u001b[A\n",
      "Prefetching dataset:  44%|██████████████████████████▍                                 | 79/179 [00:14<00:32,  3.12it/s]\u001b[A\n",
      "Prefetching dataset:  45%|██████████████████████████▊                                 | 80/179 [00:15<00:32,  3.06it/s]\u001b[A\n",
      "Prefetching dataset:  45%|███████████████████████████▏                                | 81/179 [00:15<00:32,  3.02it/s]\u001b[A\n",
      "Prefetching dataset:  46%|███████████████████████████▍                                | 82/179 [00:15<00:32,  3.03it/s]\u001b[A\n",
      "Prefetching dataset:  46%|███████████████████████████▊                                | 83/179 [00:16<00:31,  3.04it/s]\u001b[A\n",
      "Prefetching dataset:  48%|████████████████████████████▊                               | 86/179 [00:16<00:15,  6.02it/s]\u001b[A\n",
      "Prefetching dataset:  50%|█████████████████████████████▊                              | 89/179 [00:16<00:10,  8.85it/s]\u001b[A\n",
      "Prefetching dataset:  51%|██████████████████████████████▌                             | 91/179 [00:16<00:08, 10.13it/s]\u001b[A\n",
      "Prefetching dataset:  52%|███████████████████████████████▏                            | 93/179 [00:16<00:07, 11.00it/s]\u001b[A\n",
      "Prefetching dataset:  53%|███████████████████████████████▊                            | 95/179 [00:16<00:07, 11.73it/s]\u001b[A\n",
      "Prefetching dataset:  54%|████████████████████████████████▌                           | 97/179 [00:16<00:07, 11.61it/s]\u001b[A\n",
      "Prefetching dataset:  55%|█████████████████████████████████▏                          | 99/179 [00:17<00:07, 10.89it/s]\u001b[A\n",
      "Prefetching dataset:  56%|█████████████████████████████████▎                         | 101/179 [00:17<00:07, 10.31it/s]\u001b[A\n",
      "Prefetching dataset:  58%|█████████████████████████████████▉                         | 103/179 [00:17<00:07,  9.83it/s]\u001b[A\n",
      "Prefetching dataset:  59%|██████████████████████████████████▌                        | 105/179 [00:17<00:08,  8.87it/s]\u001b[A\n",
      "Prefetching dataset:  59%|██████████████████████████████████▉                        | 106/179 [00:17<00:08,  8.64it/s]\u001b[A\n",
      "Prefetching dataset:  60%|███████████████████████████████████▎                       | 107/179 [00:18<00:08,  8.22it/s]\u001b[A\n",
      "Prefetching dataset:  60%|███████████████████████████████████▌                       | 108/179 [00:18<00:08,  8.09it/s]\u001b[A\n",
      "Prefetching dataset:  61%|███████████████████████████████████▉                       | 109/179 [00:18<00:08,  7.93it/s]\u001b[A\n",
      "Prefetching dataset:  61%|████████████████████████████████████▎                      | 110/179 [00:18<00:09,  7.59it/s]\u001b[A\n",
      "Prefetching dataset:  62%|████████████████████████████████████▌                      | 111/179 [00:18<00:09,  7.05it/s]\u001b[A\n",
      "Prefetching dataset:  63%|████████████████████████████████████▉                      | 112/179 [00:18<00:10,  6.66it/s]\u001b[A\n",
      "Prefetching dataset:  63%|█████████████████████████████████████▏                     | 113/179 [00:19<00:10,  6.35it/s]\u001b[A\n",
      "Prefetching dataset:  64%|█████████████████████████████████████▌                     | 114/179 [00:19<00:09,  6.50it/s]\u001b[A\n",
      "Prefetching dataset:  64%|█████████████████████████████████████▉                     | 115/179 [00:19<00:10,  6.35it/s]\u001b[A\n",
      "Prefetching dataset:  65%|██████████████████████████████████████▏                    | 116/179 [00:19<00:10,  6.19it/s]\u001b[A\n",
      "Prefetching dataset:  65%|██████████████████████████████████████▌                    | 117/179 [00:19<00:10,  6.08it/s]\u001b[A\n",
      "Prefetching dataset:  66%|██████████████████████████████████████▉                    | 118/179 [00:19<00:10,  6.01it/s]\u001b[A\n",
      "Prefetching dataset:  66%|███████████████████████████████████████▏                   | 119/179 [00:20<00:10,  5.75it/s]\u001b[A\n",
      "Prefetching dataset:  67%|███████████████████████████████████████▌                   | 120/179 [00:20<00:10,  5.48it/s]\u001b[A\n",
      "Prefetching dataset:  68%|███████████████████████████████████████▉                   | 121/179 [00:20<00:10,  5.33it/s]\u001b[A\n",
      "Prefetching dataset:  68%|████████████████████████████████████████▏                  | 122/179 [00:20<00:10,  5.29it/s]\u001b[A\n",
      "Prefetching dataset:  69%|████████████████████████████████████████▌                  | 123/179 [00:20<00:10,  5.28it/s]\u001b[A\n",
      "Prefetching dataset:  69%|████████████████████████████████████████▊                  | 124/179 [00:21<00:10,  5.17it/s]\u001b[A\n",
      "Prefetching dataset:  70%|█████████████████████████████████████████▏                 | 125/179 [00:21<00:10,  5.18it/s]\u001b[A\n",
      "Prefetching dataset:  70%|█████████████████████████████████████████▌                 | 126/179 [00:21<00:10,  5.14it/s]\u001b[A\n",
      "Prefetching dataset:  71%|█████████████████████████████████████████▊                 | 127/179 [00:21<00:10,  5.00it/s]\u001b[A\n",
      "Prefetching dataset:  72%|██████████████████████████████████████████▏                | 128/179 [00:21<00:10,  4.94it/s]\u001b[A\n",
      "Prefetching dataset:  72%|██████████████████████████████████████████▌                | 129/179 [00:22<00:10,  4.78it/s]\u001b[A\n",
      "Prefetching dataset:  73%|██████████████████████████████████████████▊                | 130/179 [00:22<00:10,  4.65it/s]\u001b[A\n",
      "Prefetching dataset:  73%|███████████████████████████████████████████▏               | 131/179 [00:22<00:10,  4.68it/s]\u001b[A\n",
      "Prefetching dataset:  75%|████████████████████████████████████████████▏              | 134/179 [00:22<00:05,  8.83it/s]\u001b[A\n",
      "Prefetching dataset:  77%|█████████████████████████████████████████████▏             | 137/179 [00:22<00:03, 11.74it/s]\u001b[A\n",
      "Prefetching dataset:  78%|█████████████████████████████████████████████▊             | 139/179 [00:22<00:03, 12.55it/s]\u001b[A\n",
      "Prefetching dataset:  79%|██████████████████████████████████████████████▍            | 141/179 [00:23<00:02, 12.86it/s]\u001b[A\n",
      "Prefetching dataset:  80%|███████████████████████████████████████████████▏           | 143/179 [00:23<00:02, 13.16it/s]\u001b[A\n",
      "Prefetching dataset:  81%|███████████████████████████████████████████████▊           | 145/179 [00:23<00:02, 12.61it/s]\u001b[A\n",
      "Prefetching dataset:  82%|████████████████████████████████████████████████▍          | 147/179 [00:23<00:02, 11.90it/s]\u001b[A\n",
      "Prefetching dataset:  83%|█████████████████████████████████████████████████          | 149/179 [00:23<00:02, 10.80it/s]\u001b[A\n",
      "Prefetching dataset:  84%|█████████████████████████████████████████████████▊         | 151/179 [00:24<00:02, 10.10it/s]\u001b[A\n",
      "Prefetching dataset:  85%|██████████████████████████████████████████████████▍        | 153/179 [00:24<00:02,  9.47it/s]\u001b[A\n",
      "Prefetching dataset:  86%|██████████████████████████████████████████████████▊        | 154/179 [00:24<00:02,  9.00it/s]\u001b[A\n",
      "Prefetching dataset:  87%|███████████████████████████████████████████████████        | 155/179 [00:24<00:02,  8.56it/s]\u001b[A\n",
      "Prefetching dataset:  87%|███████████████████████████████████████████████████▍       | 156/179 [00:24<00:02,  7.93it/s]\u001b[A\n",
      "Prefetching dataset:  88%|███████████████████████████████████████████████████▋       | 157/179 [00:24<00:02,  7.73it/s]\u001b[A\n",
      "Prefetching dataset:  88%|████████████████████████████████████████████████████       | 158/179 [00:25<00:02,  7.19it/s]\u001b[A\n",
      "Prefetching dataset:  89%|████████████████████████████████████████████████████▍      | 159/179 [00:25<00:02,  6.87it/s]\u001b[A\n",
      "Prefetching dataset:  89%|████████████████████████████████████████████████████▋      | 160/179 [00:25<00:02,  6.62it/s]\u001b[A\n",
      "Prefetching dataset:  90%|█████████████████████████████████████████████████████      | 161/179 [00:25<00:02,  6.23it/s]\u001b[A\n",
      "Prefetching dataset:  91%|█████████████████████████████████████████████████████▍     | 162/179 [00:25<00:02,  5.98it/s]\u001b[A\n",
      "Prefetching dataset:  91%|█████████████████████████████████████████████████████▋     | 163/179 [00:25<00:02,  5.71it/s]\u001b[A\n",
      "Prefetching dataset:  92%|██████████████████████████████████████████████████████     | 164/179 [00:26<00:02,  5.55it/s]\u001b[A\n",
      "Prefetching dataset:  92%|██████████████████████████████████████████████████████▍    | 165/179 [00:26<00:02,  5.52it/s]\u001b[A\n",
      "Prefetching dataset:  93%|██████████████████████████████████████████████████████▋    | 166/179 [00:26<00:02,  5.33it/s]\u001b[A\n",
      "Prefetching dataset:  93%|███████████████████████████████████████████████████████    | 167/179 [00:26<00:02,  5.20it/s]\u001b[A\n",
      "Prefetching dataset:  94%|███████████████████████████████████████████████████████▎   | 168/179 [00:26<00:02,  5.02it/s]\u001b[A\n",
      "Prefetching dataset:  94%|███████████████████████████████████████████████████████▋   | 169/179 [00:27<00:02,  4.78it/s]\u001b[A\n",
      "Prefetching dataset:  95%|████████████████████████████████████████████████████████   | 170/179 [00:27<00:01,  4.63it/s]\u001b[A\n"
     ]
    },
    {
     "name": "stderr",
     "output_type": "stream",
     "text": [
      "Prefetching dataset:  96%|████████████████████████████████████████████████████████▎  | 171/179 [00:27<00:01,  4.61it/s]\u001b[A\n",
      "Prefetching dataset:  96%|████████████████████████████████████████████████████████▋  | 172/179 [00:27<00:01,  4.57it/s]\u001b[A\n",
      "Prefetching dataset:  97%|█████████████████████████████████████████████████████████  | 173/179 [00:28<00:01,  4.49it/s]\u001b[A\n",
      "Prefetching dataset:  97%|█████████████████████████████████████████████████████████▎ | 174/179 [00:28<00:01,  4.43it/s]\u001b[A\n",
      "Prefetching dataset:  98%|█████████████████████████████████████████████████████████▋ | 175/179 [00:28<00:00,  4.42it/s]\u001b[A\n",
      "Prefetching dataset:  98%|██████████████████████████████████████████████████████████ | 176/179 [00:28<00:00,  4.42it/s]\u001b[A\n",
      "Prefetching dataset:  99%|██████████████████████████████████████████████████████████▎| 177/179 [00:28<00:00,  4.27it/s]\u001b[A\n",
      "Prefetching dataset:  99%|██████████████████████████████████████████████████████████▋| 178/179 [00:29<00:00,  4.19it/s]\u001b[A\n",
      "Prefetching dataset: 100%|███████████████████████████████████████████████████████████| 179/179 [00:29<00:00,  6.07it/s]\u001b[A\n"
     ]
    },
    {
     "name": "stdout",
     "output_type": "stream",
     "text": [
      "Testing DataLoader 0: 100%|████████████████████████████████████████████████████████████| 45/45 [00:04<00:00, 10.20it/s]\n",
      "────────────────────────────────────────────────────────────────────────────────────────────────────────────────────────\n",
      "       Test metric             DataLoader 0\n",
      "────────────────────────────────────────────────────────────────────────────────────────────────────────────────────────\n",
      "        test_loss           0.11364488303661346\n",
      "────────────────────────────────────────────────────────────────────────────────────────────────────────────────────────\n"
     ]
    },
    {
     "data": {
      "text/plain": [
       "[{'test_loss': 0.11364488303661346}]"
      ]
     },
     "execution_count": 55,
     "metadata": {},
     "output_type": "execute_result"
    }
   ],
   "source": [
    "trainer.test(model=model, datamodule=test_datamodule)"
   ]
  }
 ],
 "metadata": {
  "kernelspec": {
   "display_name": "Python 3 (ipykernel)",
   "language": "python",
   "name": "python3"
  },
  "language_info": {
   "codemirror_mode": {
    "name": "ipython",
    "version": 3
   },
   "file_extension": ".py",
   "mimetype": "text/x-python",
   "name": "python",
   "nbconvert_exporter": "python",
   "pygments_lexer": "ipython3",
   "version": "3.9.7"
  }
 },
 "nbformat": 4,
 "nbformat_minor": 5
}
